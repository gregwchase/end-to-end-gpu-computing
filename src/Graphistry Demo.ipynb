{
 "cells": [
  {
   "cell_type": "code",
   "execution_count": 1,
   "metadata": {},
   "outputs": [],
   "source": [
    "import pandas as pd\n",
    "import numpy as np\n",
    "import graphistry\n",
    "import os\n",
    "from dotenv import load_dotenv\n",
    "from dotenv import find_dotenv"
   ]
  },
  {
   "cell_type": "markdown",
   "metadata": {},
   "source": [
    "## Load Credentials "
   ]
  },
  {
   "cell_type": "code",
   "execution_count": 2,
   "metadata": {},
   "outputs": [],
   "source": [
    "load_dotenv(find_dotenv(), verbose=True)\n",
    "\n",
    "# Graphistry API Key\n",
    "# https://www.graphistry.com/api-request\n",
    "graphistry.register(key=os.getenv(\"graphistry_api_key\"))"
   ]
  },
  {
   "cell_type": "code",
   "execution_count": 3,
   "metadata": {},
   "outputs": [],
   "source": [
    "def get_movie(df, movie_id):\n",
    "    \"\"\"\n",
    "    Get movie data based on Graphistry analysis\n",
    "    \n",
    "    INPUT\n",
    "        df: Pandas DataFrame\n",
    "        movie_id: movie ID from movies DataFrame\n",
    "        \n",
    "    OUTPUT\n",
    "        Single row from df, showing the data from requested movieId\n",
    "    \"\"\"\n",
    "    return df[df[\"movieId\"] == movie_id]\n",
    "\n",
    "def get_ratings(ratings_df, movies_df, movie_id):\n",
    "    \"\"\"\n",
    "    Aggregated rating data for single movie.\n",
    "    \n",
    "    INPUT\n",
    "        df: Pandas DataFrame\n",
    "        movie_id: movie ID from movies DataFrame\n",
    "    \"\"\"\n",
    "    df = pd.merge(ratings_df, movies_df, on=\"movieId\", how=\"outer\")\n",
    "    movie = df[df[\"movieId\"] == movie_id]\n",
    "    \n",
    "    movie_name = movie.title.unique()\n",
    "    movie_ratings = movie.shape[0]\n",
    "    print(\"{} has {} reviews\".format(movie_name, movie_ratings))\n",
    "    \n",
    "    avg_review = movie.rating.mean()\n",
    "    print(\"----------\")\n",
    "    print(\"Average Review: {} of 5\".format(avg_review))"
   ]
  },
  {
   "cell_type": "markdown",
   "metadata": {},
   "source": [
    "## Import MovieLens Dataset "
   ]
  },
  {
   "cell_type": "code",
   "execution_count": 4,
   "metadata": {},
   "outputs": [],
   "source": [
    "# !wget http://files.grouplens.org/datasets/movielens/ml-20m.zip"
   ]
  },
  {
   "cell_type": "code",
   "execution_count": 5,
   "metadata": {},
   "outputs": [],
   "source": [
    "movies = pd.read_csv(\"../data/ml-20m/movies.csv\")"
   ]
  },
  {
   "cell_type": "code",
   "execution_count": 6,
   "metadata": {},
   "outputs": [],
   "source": [
    "ratings = pd.read_csv(\"../data/ml-20m/ratings.csv\")"
   ]
  },
  {
   "cell_type": "code",
   "execution_count": 7,
   "metadata": {},
   "outputs": [],
   "source": [
    "ratings = ratings.sample(100000)"
   ]
  },
  {
   "cell_type": "markdown",
   "metadata": {},
   "source": [
    "## Plot Ratings Graph "
   ]
  },
  {
   "cell_type": "code",
   "execution_count": 8,
   "metadata": {},
   "outputs": [
    {
     "data": {
      "text/html": [
       "\n",
       "            <iframe id=\"6aed770f-11d9-4259-b950-16357d4c223e\" src=\"https://labs.graphistry.com/graph/graph.html?dataset=PyGraphistry/2AMYHEGMN4&type=vgraph&viztoken=5d3229b23441be57a5b555e0ce2ef04670f87131&usertag=5eea89d3-pygraphistry-0.9.62&splashAfter=1567130254&info=true\"\n",
       "                    allowfullscreen=\"true\" webkitallowfullscreen=\"true\" mozallowfullscreen=\"true\"\n",
       "                    oallowfullscreen=\"true\" msallowfullscreen=\"true\"\n",
       "                    style=\"width:100%; height:500px; border: 1px solid #DDD\">\n",
       "            </iframe>\n",
       "        \n",
       "            <script>\n",
       "                $(\"#6aed770f-11d9-4259-b950-16357d4c223e\").bind('mousewheel', function(e) {\n",
       "                e.preventDefault();\n",
       "                });\n",
       "            </script>\n",
       "        "
      ],
      "text/plain": [
       "<IPython.core.display.HTML object>"
      ]
     },
     "execution_count": 8,
     "metadata": {},
     "output_type": "execute_result"
    }
   ],
   "source": [
    "graphistry.bind(source=\"userId\", destination=\"movieId\", edge_weight=\"rating\").plot(ratings)"
   ]
  },
  {
   "cell_type": "code",
   "execution_count": 11,
   "metadata": {
    "scrolled": true
   },
   "outputs": [
    {
     "name": "stdout",
     "output_type": "stream",
     "text": [
      "['Musa the Warrior (Musa) (2001)'] has 1 reviews\n",
      "----------\n",
      "Average Review: 2.0 of 5\n"
     ]
    }
   ],
   "source": [
    "get_ratings(ratings, movies, movie_id=8795)"
   ]
  },
  {
   "cell_type": "code",
   "execution_count": null,
   "metadata": {},
   "outputs": [],
   "source": []
  }
 ],
 "metadata": {
  "kernelspec": {
   "display_name": "Python 3",
   "language": "python",
   "name": "python3"
  },
  "language_info": {
   "codemirror_mode": {
    "name": "ipython",
    "version": 3
   },
   "file_extension": ".py",
   "mimetype": "text/x-python",
   "name": "python",
   "nbconvert_exporter": "python",
   "pygments_lexer": "ipython3",
   "version": "3.6.8"
  }
 },
 "nbformat": 4,
 "nbformat_minor": 2
}
